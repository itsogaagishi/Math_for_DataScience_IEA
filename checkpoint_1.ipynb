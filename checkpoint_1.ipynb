{
  "nbformat": 4,
  "nbformat_minor": 0,
  "metadata": {
    "colab": {
      "provenance": []
    },
    "kernelspec": {
      "name": "python3",
      "display_name": "Python 3"
    },
    "language_info": {
      "name": "python"
    }
  },
  "cells": [
    {
      "cell_type": "markdown",
      "source": [
        "Checkpoint:Mathematics for Data Science\n",
        "\n",
        "Data Analysis and Matrix Operations"
      ],
      "metadata": {
        "id": "as6kljvdjp10"
      }
    },
    {
      "cell_type": "code",
      "execution_count": null,
      "metadata": {
        "id": "1AxjGXUTjowV"
      },
      "outputs": [],
      "source": [
        "import numpy as np\n",
        "import statistics as st\n"
      ]
    },
    {
      "cell_type": "code",
      "source": [
        "matrixA = np.array([[2,3],[1,7],[8,9]])\n",
        "matrixB = np.array([[10,12],[9,11],[2,3]])\n",
        "print(type(matrixA))\n",
        "print(type(matrixB))"
      ],
      "metadata": {
        "colab": {
          "base_uri": "https://localhost:8080/"
        },
        "id": "qDujbsoVkFEe",
        "outputId": "f1509cb7-84fe-427f-ac45-71be82a496b4"
      },
      "execution_count": null,
      "outputs": [
        {
          "output_type": "stream",
          "name": "stdout",
          "text": [
            "<class 'numpy.ndarray'>\n",
            "<class 'numpy.ndarray'>\n"
          ]
        }
      ]
    },
    {
      "cell_type": "code",
      "source": [
        "print(np.mean(matrixA))\n",
        "print(np.mean(matrixB))"
      ],
      "metadata": {
        "colab": {
          "base_uri": "https://localhost:8080/"
        },
        "id": "VUGrb_Hxk-J2",
        "outputId": "57fe6dc9-f887-494c-9352-f82ffd2c8b53"
      },
      "execution_count": null,
      "outputs": [
        {
          "output_type": "stream",
          "name": "stdout",
          "text": [
            "5.0\n",
            "7.833333333333333\n"
          ]
        }
      ]
    },
    {
      "cell_type": "code",
      "source": [
        "np.median(matrixA)\n"
      ],
      "metadata": {
        "colab": {
          "base_uri": "https://localhost:8080/"
        },
        "id": "5oAd0DVylVXH",
        "outputId": "6edc0b6c-8596-442e-d480-2848760c6c6d"
      },
      "execution_count": null,
      "outputs": [
        {
          "output_type": "execute_result",
          "data": {
            "text/plain": [
              "5.0"
            ]
          },
          "metadata": {},
          "execution_count": 8
        }
      ]
    },
    {
      "cell_type": "code",
      "source": [
        "np.median(matrixB)"
      ],
      "metadata": {
        "colab": {
          "base_uri": "https://localhost:8080/"
        },
        "id": "oaITOsGXliap",
        "outputId": "07aa4c92-4799-484e-83ab-e1efa4a30bac"
      },
      "execution_count": null,
      "outputs": [
        {
          "output_type": "execute_result",
          "data": {
            "text/plain": [
              "9.5"
            ]
          },
          "metadata": {},
          "execution_count": 9
        }
      ]
    },
    {
      "cell_type": "code",
      "source": [
        "from scipy import stats"
      ],
      "metadata": {
        "id": "zuP3g1YAl0bN"
      },
      "execution_count": null,
      "outputs": []
    },
    {
      "cell_type": "code",
      "source": [
        "\n",
        "print(stats.mode(matrixA))"
      ],
      "metadata": {
        "colab": {
          "base_uri": "https://localhost:8080/"
        },
        "id": "da83vQEJmp0Q",
        "outputId": "5de70d55-e720-45eb-c614-657a55a4cb81"
      },
      "execution_count": null,
      "outputs": [
        {
          "output_type": "stream",
          "name": "stdout",
          "text": [
            "ModeResult(mode=array([1, 3]), count=array([1, 1]))\n"
          ]
        }
      ]
    },
    {
      "cell_type": "code",
      "source": [
        "print(stats.mode(matrixB))"
      ],
      "metadata": {
        "colab": {
          "base_uri": "https://localhost:8080/"
        },
        "id": "TvR7uChNpEvi",
        "outputId": "d41ef6d1-811d-4619-b8b4-456314d604a6"
      },
      "execution_count": null,
      "outputs": [
        {
          "output_type": "stream",
          "name": "stdout",
          "text": [
            "ModeResult(mode=array([2, 3]), count=array([1, 1]))\n"
          ]
        }
      ]
    },
    {
      "cell_type": "code",
      "source": [
        "flattened_matrixA = matrixA.flatten()\n",
        "print(st.mode(flattened_matrixA))\n"
      ],
      "metadata": {
        "colab": {
          "base_uri": "https://localhost:8080/"
        },
        "id": "UNMO4wOQpeMP",
        "outputId": "69ea638f-8950-48ee-9a61-8ab8b0da75aa"
      },
      "execution_count": null,
      "outputs": [
        {
          "output_type": "stream",
          "name": "stdout",
          "text": [
            "2\n"
          ]
        }
      ]
    },
    {
      "cell_type": "code",
      "source": [
        "flattened_matrixB = matrixB.flatten()\n",
        "print(flattened_matrixB)\n",
        "print(st.mode(flattened_matrixB))"
      ],
      "metadata": {
        "colab": {
          "base_uri": "https://localhost:8080/"
        },
        "id": "G9cVrhhnplnf",
        "outputId": "899a40f6-ec4e-4539-cc37-6d4e0497328d"
      },
      "execution_count": null,
      "outputs": [
        {
          "output_type": "stream",
          "name": "stdout",
          "text": [
            "[10 12  9 11  2  3]\n",
            "10\n"
          ]
        }
      ]
    },
    {
      "cell_type": "code",
      "source": [
        "print(matrixA + matrixB)\n"
      ],
      "metadata": {
        "colab": {
          "base_uri": "https://localhost:8080/"
        },
        "id": "Vr1eAKp-pxut",
        "outputId": "b74cf5cc-3aad-407a-8bd6-0dfd156db651"
      },
      "execution_count": null,
      "outputs": [
        {
          "output_type": "stream",
          "name": "stdout",
          "text": [
            "[[12 15]\n",
            " [10 18]\n",
            " [10 12]]\n"
          ]
        }
      ]
    },
    {
      "cell_type": "code",
      "source": [
        "print(matrixA - matrixB)"
      ],
      "metadata": {
        "colab": {
          "base_uri": "https://localhost:8080/"
        },
        "id": "aIX6nIVnp41F",
        "outputId": "9d37c58a-2f61-4f1b-8c51-16cff6c08345"
      },
      "execution_count": null,
      "outputs": [
        {
          "output_type": "stream",
          "name": "stdout",
          "text": [
            "[[-8 -9]\n",
            " [-8 -4]\n",
            " [ 6  6]]\n"
          ]
        }
      ]
    },
    {
      "cell_type": "code",
      "source": [
        "print(np.transpose(matrixA))"
      ],
      "metadata": {
        "colab": {
          "base_uri": "https://localhost:8080/"
        },
        "id": "vj10qIi8qC06",
        "outputId": "e1ed55e5-7e9c-439d-ab09-c66f423e2181"
      },
      "execution_count": null,
      "outputs": [
        {
          "output_type": "stream",
          "name": "stdout",
          "text": [
            "[[2 1 8]\n",
            " [3 7 9]]\n"
          ]
        }
      ]
    },
    {
      "cell_type": "code",
      "source": [
        "print(np.transpose(matrixB))"
      ],
      "metadata": {
        "colab": {
          "base_uri": "https://localhost:8080/"
        },
        "id": "BIrwix6-qNrh",
        "outputId": "04f885b5-7237-4b9d-bb11-4d0063021a92"
      },
      "execution_count": null,
      "outputs": [
        {
          "output_type": "stream",
          "name": "stdout",
          "text": [
            "[[10  9  2]\n",
            " [12 11  3]]\n"
          ]
        }
      ]
    },
    {
      "cell_type": "code",
      "source": [
        "k = 12\n",
        "print(k*matrixA)"
      ],
      "metadata": {
        "colab": {
          "base_uri": "https://localhost:8080/"
        },
        "id": "i731yGPgqRle",
        "outputId": "240879e1-ee0a-4924-88b2-bc2c07188ea3"
      },
      "execution_count": null,
      "outputs": [
        {
          "output_type": "stream",
          "name": "stdout",
          "text": [
            "[[ 24  36]\n",
            " [ 12  84]\n",
            " [ 96 108]]\n"
          ]
        }
      ]
    },
    {
      "cell_type": "code",
      "source": [
        "x = 10\n",
        "print(x*matrixB)"
      ],
      "metadata": {
        "colab": {
          "base_uri": "https://localhost:8080/"
        },
        "id": "qg0LYflyqZD4",
        "outputId": "bc9cd1f6-2b7d-497e-bfce-9d70b1a03554"
      },
      "execution_count": null,
      "outputs": [
        {
          "output_type": "stream",
          "name": "stdout",
          "text": [
            "[[100 120]\n",
            " [ 90 110]\n",
            " [ 20  30]]\n"
          ]
        }
      ]
    },
    {
      "cell_type": "markdown",
      "source": [
        "Matrices play a crucial role in building recommendation systems, widely used in e-commerce, streaming services, and social media platforms."
      ],
      "metadata": {
        "id": "Ibf6rB0IrFq1"
      }
    },
    {
      "cell_type": "code",
      "source": [
        "dataset = [95,105,112,116,133,148,155,156,231]"
      ],
      "metadata": {
        "id": "KvFGkY5urOKG"
      },
      "execution_count": null,
      "outputs": []
    },
    {
      "cell_type": "code",
      "source": [
        "st.stdev(dataset)"
      ],
      "metadata": {
        "colab": {
          "base_uri": "https://localhost:8080/"
        },
        "id": "89v6ualYKtvm",
        "outputId": "f9b25f34-99a1-4d83-c084-fe23397f5160"
      },
      "execution_count": null,
      "outputs": [
        {
          "output_type": "execute_result",
          "data": {
            "text/plain": [
              "41.04266073246227"
            ]
          },
          "metadata": {},
          "execution_count": 3
        }
      ]
    },
    {
      "cell_type": "code",
      "source": [
        "st.variance(dataset)"
      ],
      "metadata": {
        "colab": {
          "base_uri": "https://localhost:8080/"
        },
        "id": "l09CyWYaK9KM",
        "outputId": "b2952080-727c-47d5-bb71-e303d8673038"
      },
      "execution_count": null,
      "outputs": [
        {
          "output_type": "execute_result",
          "data": {
            "text/plain": [
              "1684.5"
            ]
          },
          "metadata": {},
          "execution_count": 4
        }
      ]
    },
    {
      "cell_type": "code",
      "source": [
        "st.mean(dataset)"
      ],
      "metadata": {
        "id": "nkSkHHYQP8HU",
        "outputId": "ca2bd5c2-5b05-45b8-bf95-0cbb71cd3d61",
        "colab": {
          "base_uri": "https://localhost:8080/"
        }
      },
      "execution_count": null,
      "outputs": [
        {
          "output_type": "execute_result",
          "data": {
            "text/plain": [
              "139"
            ]
          },
          "metadata": {},
          "execution_count": 5
        }
      ]
    }
  ]
}